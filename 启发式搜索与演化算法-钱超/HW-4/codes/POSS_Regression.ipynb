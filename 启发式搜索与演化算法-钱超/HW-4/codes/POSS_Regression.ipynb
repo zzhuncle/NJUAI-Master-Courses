{
 "cells": [
  {
   "cell_type": "code",
   "execution_count": null,
   "metadata": {},
   "outputs": [],
   "source": [
    "from sklearn.datasets import load_svmlight_file\n",
    "\n",
    "data_path = 'svmguide3'\n",
    "data = load_svmlight_file(f'../datasets/{data_path}.txt')\n",
    "x = data[0].todense()\n",
    "y = data[1].reshape(-1,1)"
   ]
  },
  {
   "cell_type": "code",
   "execution_count": null,
   "metadata": {},
   "outputs": [],
   "source": [
    "import numpy as np\n",
    "x = (x - np.mean(x, axis=0)) / np.std(x, axis=0)\n",
    "x[np.isnan(x)] = 0\n",
    "y = (y - np.mean(y, axis=0)) / np.std(y, axis=0)"
   ]
  },
  {
   "cell_type": "code",
   "execution_count": null,
   "metadata": {},
   "outputs": [],
   "source": [
    "from scipy.linalg import lstsq\n",
    "import numpy as np\n",
    "k = 8\n",
    "m, n = x.shape\n",
    "print(m, n)\n",
    "population = [np.zeros((n))]\n",
    "popSize = 1\n",
    "fitness = [np.zeros(2)]\n",
    "fitness[0][0] = np.inf\n",
    "fitness[0][1] = population[0].sum()\n",
    "T = round(n*k*k*2*np.exp(1))\n",
    "epoch = T // 100\n",
    "\n",
    "tt = []\n",
    "mse = []\n",
    "r2 = []\n",
    "\n",
    "for _ in range(T):\n",
    "    if _ and _ % epoch == 0:\n",
    "        m_fitness, m_population = np.array(fitness), np.array(population)\n",
    "        temp = m_fitness[:,1]<=k\n",
    "        j = max(m_fitness[temp,1])\n",
    "        seq = m_fitness[:,1] == j\n",
    "        selectedVariables = m_population[seq,:]\n",
    "        for selectedVariable in selectedVariables:\n",
    "            pos = selectedVariable == 1\n",
    "            coef = lstsq(x[:,pos], y)[0]\n",
    "            err = x[:,pos] * coef - y\n",
    "            loss = err.T * err / m\n",
    "            mse.append(loss)\n",
    "            r2.append((np.var(y) - loss) / np.var(y))\n",
    "        tt.append(_)\n",
    "        \n",
    "    idx = np.random.randint(popSize,size=1)[0]\n",
    "    pm = np.random.choice((0,1), p=(1-1/n, 1/n), size=n)\n",
    "    flip = 1 - population[idx]\n",
    "    offspring = np.where(pm, flip, population[idx])\n",
    "    offspringFit = np.zeros(2)\n",
    "    offspringFit[1] = offspring.sum()\n",
    "    if offspringFit[1] == 0 or offspringFit[1] >= 2*k:\n",
    "        offspringFit[0] = np.inf\n",
    "    else:\n",
    "        pos = offspring == 1\n",
    "        coef = lstsq(x[:,pos], y)[0]\n",
    "        err = x[:,pos] * coef - y\n",
    "        offspringFit[0] = err.T * err / m\n",
    "    \n",
    "    m_fitness, m_population = np.array(fitness), np.array(population)\n",
    "    if sum((m_fitness[:,0]<offspringFit[0])*(m_fitness[:,1]<=offspringFit[1]))+\\\n",
    "        sum((m_fitness[:,0]<=offspringFit[0])*(m_fitness[:,1]<offspringFit[1]))>0:\n",
    "        continue\n",
    "    else:\n",
    "        deleteIndex = np.array((m_fitness[:,0]>=offspringFit[0])*(m_fitness[:,1]>=offspringFit[1]))\n",
    "    ndelete = ~deleteIndex\n",
    "    population = list(m_population[ndelete]) + [offspring]\n",
    "    fitness = list(m_fitness[ndelete]) + [offspringFit]\n",
    "    popSize = len(population)\n",
    "    \n",
    "    \n",
    "m_fitness, m_population = np.array(fitness), np.array(population)\n",
    "temp = m_fitness[:,1]<=k\n",
    "j = max(m_fitness[temp,1])\n",
    "seq = m_fitness[:,1] == j\n",
    "selectedVariables = m_population[seq,:]"
   ]
  },
  {
   "cell_type": "code",
   "execution_count": null,
   "metadata": {},
   "outputs": [],
   "source": [
    "m_fitness, m_population = np.array(fitness), np.array(population)\n",
    "temp = m_fitness[:,1]<=k\n",
    "j = max(m_fitness[temp,1])\n",
    "seq = m_fitness[:,1] == j\n",
    "selectedVariables = m_population[seq,:]"
   ]
  },
  {
   "cell_type": "code",
   "execution_count": null,
   "metadata": {},
   "outputs": [],
   "source": [
    "print(j)\n",
    "print(m_fitness[m_fitness[:,1]<=k])"
   ]
  },
  {
   "cell_type": "code",
   "execution_count": null,
   "metadata": {},
   "outputs": [],
   "source": [
    "for selectedVariable in selectedVariables:\n",
    "    pos = selectedVariable == 1\n",
    "    coef = lstsq(x[:,pos], y)[0]\n",
    "    err = x[:,pos] * coef - y\n",
    "    loss = err.T * err / m\n",
    "    print(loss)\n",
    "    print((np.var(y) - loss) / np.var(y))"
   ]
  },
  {
   "cell_type": "code",
   "execution_count": null,
   "metadata": {},
   "outputs": [],
   "source": [
    "import matplotlib.pyplot as plt\n",
    "plt.style.use(['science'])\n",
    "\n",
    "mse = np.array(mse)\n",
    "mse = [_[0][0] for _ in mse]\n",
    "\n",
    "with plt.style.context(['science']):\n",
    "    plt.figure()\n",
    "    plt.plot(tt, mse)\n",
    "    plt.xlabel('epoch')\n",
    "    plt.ylabel('mse')\n",
    "    plt.title(f'poss: {data_path}')\n",
    "    plt.savefig(f'POSS_{data_path}.pdf')"
   ]
  },
  {
   "cell_type": "code",
   "execution_count": null,
   "metadata": {},
   "outputs": [],
   "source": [
    "with plt.style.context(['science']):\n",
    "    ep = m_fitness[m_fitness[:,1]<=2*k].T\n",
    "    plt.scatter(ep[1], ep[0])\n",
    "    plt.xlabel('k')\n",
    "    plt.ylabel('mse')\n",
    "    plt.title(f'Pareto front- poss: {data_path}')\n",
    "    plt.savefig(f'POSS_{data_path}_pareto.pdf', bbox_inches='tight')"
   ]
  },
  {
   "cell_type": "code",
   "execution_count": null,
   "metadata": {},
   "outputs": [],
   "source": [
    "np.save(f'POSS_{data_path}_t.npy', tt)\n",
    "np.save(f'POSS_{data_path}_mse.npy', mse)\n",
    "np.save(f'POSS_{data_path}_pareto.npy', ep)"
   ]
  }
 ],
 "metadata": {
  "kernelspec": {
   "display_name": "introRL",
   "language": "python",
   "name": "python3"
  },
  "language_info": {
   "codemirror_mode": {
    "name": "ipython",
    "version": 3
   },
   "file_extension": ".py",
   "mimetype": "text/x-python",
   "name": "python",
   "nbconvert_exporter": "python",
   "pygments_lexer": "ipython3",
   "version": "3.6.13 |Anaconda, Inc.| (default, Mar 16 2021, 11:37:27) [MSC v.1916 64 bit (AMD64)]"
  },
  "orig_nbformat": 4,
  "vscode": {
   "interpreter": {
    "hash": "188a1d607666d26341b4aeacf8ee052faf3945c44a9ff0d1a699f32494ac6a63"
   }
  }
 },
 "nbformat": 4,
 "nbformat_minor": 2
}
