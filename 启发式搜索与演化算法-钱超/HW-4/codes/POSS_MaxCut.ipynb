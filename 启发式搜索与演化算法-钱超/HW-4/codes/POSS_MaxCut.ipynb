{
 "cells": [
  {
   "cell_type": "code",
   "execution_count": null,
   "metadata": {},
   "outputs": [],
   "source": [
    "import networkx as nx\n",
    "import numpy as np\n",
    "\n",
    "def generate_regular_graph():\n",
    "    # 这里简单以正则图为例, 鼓励同学们尝试在其他类型的图(具体可查看如下的nx文档)上测试算法性能\n",
    "    # nx文档 https://networkx.org/documentation/stable/reference/generators.html\n",
    "    graph = nx.random_graphs.random_regular_graph(d=99, n=200, seed=2023)\n",
    "    return graph, len(graph.nodes), len(graph.edges)\n",
    "\n",
    "def generate_erdos_renyi_graph():\n",
    "    graph = nx.random_graphs.erdos_renyi_graph(n=180, p=0.52, seed=2023)\n",
    "    return graph, len(graph.nodes), len(graph.edges)\n",
    "\n",
    "data_path = 'regular'\n",
    "\n",
    "if data_path == 'regular':\n",
    "    graph, n_nodes, n_edges = generate_regular_graph()\n",
    "elif data_path == 'ER':\n",
    "    graph, n_nodes, n_edges = generate_erdos_renyi_graph()\n",
    "    \n",
    "print(n_nodes, n_edges)\n",
    "def get_fitness(graph, x, threshold=0):\n",
    "    # 获得Cuts值需要将图分为两部分, 这里默认以0为阈值把解分成两块.\n",
    "    g1 = np.where(x == 0)[0]\n",
    "    g2 = np.where(x == 1)[0]\n",
    "    return -nx.cut_size(graph, g1, g2) / n_edges"
   ]
  },
  {
   "cell_type": "code",
   "execution_count": null,
   "metadata": {},
   "outputs": [],
   "source": [
    "\n",
    "import numpy as np\n",
    "k = 8\n",
    "n = n_nodes\n",
    "population = [np.zeros((n))]\n",
    "popSize = 1\n",
    "fitness = [np.zeros(2)]\n",
    "fitness[0][0] = get_fitness(graph, population[0])\n",
    "\n",
    "fitness[0][1] = population[0].sum()\n",
    "T = round(n*k*k*2*np.exp(1))\n",
    "epoch = T // 100\n",
    "\n",
    "tt = []\n",
    "mse = []"
   ]
  },
  {
   "cell_type": "code",
   "execution_count": null,
   "metadata": {},
   "outputs": [],
   "source": [
    "for _ in range(T):\n",
    "    if _ and _ % epoch == 0:\n",
    "        m_fitness, m_population = np.array(fitness), np.array(population)\n",
    "        temp = m_fitness[:,1]<=k\n",
    "        j = max(m_fitness[temp,1])\n",
    "        seq = m_fitness[:,1] == j\n",
    "        selectedVariables = m_population[seq,:][0]\n",
    "        loss = get_fitness(graph, selectedVariables)\n",
    "        mse.append(loss)\n",
    "        tt.append(_)\n",
    "        print(loss)\n",
    "        \n",
    "    idx = np.random.randint(popSize,size=1)[0]\n",
    "    pm = np.random.choice((0,1), p=(1-1/n, 1/n), size=n)\n",
    "    flip = 1 - population[idx]\n",
    "    offspring = np.where(pm, flip, population[idx])\n",
    "    offspringFit = np.zeros(2)\n",
    "    offspringFit[1] = offspring.sum()\n",
    "    if offspringFit[1] == 0 or offspringFit[1] >= 2*k:\n",
    "        offspringFit[0] = np.inf\n",
    "    else:\n",
    "        offspringFit[0] = get_fitness(graph, offspring)\n",
    "    \n",
    "    m_fitness, m_population = np.array(fitness), np.array(population)\n",
    "    if sum((m_fitness[:,0]<offspringFit[0])*(m_fitness[:,1]<=offspringFit[1]))+\\\n",
    "        sum((m_fitness[:,0]<=offspringFit[0])*(m_fitness[:,1]<offspringFit[1]))>0:\n",
    "        continue\n",
    "    else:\n",
    "        deleteIndex = np.array((m_fitness[:,0]>=offspringFit[0])*(m_fitness[:,1]>=offspringFit[1]))\n",
    "    ndelete = ~deleteIndex\n",
    "    population = list(m_population[ndelete]) + [offspring]\n",
    "    fitness = list(m_fitness[ndelete]) + [offspringFit]\n",
    "    popSize = len(population)\n",
    "    \n",
    "    \n",
    "m_fitness, m_population = np.array(fitness), np.array(population)\n",
    "temp = m_fitness[:,1]<=k\n",
    "j = max(m_fitness[temp,1])\n",
    "seq = m_fitness[:,1] == j\n",
    "selectedVariables = m_population[seq,:][0]\n",
    "loss = get_fitness(graph, selectedVariables)\n",
    "print(loss)"
   ]
  },
  {
   "cell_type": "code",
   "execution_count": null,
   "metadata": {},
   "outputs": [],
   "source": [
    "print(j)\n",
    "print(m_fitness[m_fitness[:,1]<=k])"
   ]
  },
  {
   "cell_type": "code",
   "execution_count": null,
   "metadata": {},
   "outputs": [],
   "source": [
    "import matplotlib.pyplot as plt\n",
    "plt.style.use(['science'])\n",
    "\n",
    "mse = np.array(mse)"
   ]
  },
  {
   "cell_type": "code",
   "execution_count": null,
   "metadata": {},
   "outputs": [],
   "source": [
    "with plt.style.context(['science']):\n",
    "    plt.figure()\n",
    "    plt.plot(tt, -mse)\n",
    "    plt.xlabel('epoch')\n",
    "    plt.ylabel('fitness')\n",
    "    plt.title(f'poss: {data_path}')\n",
    "    plt.savefig(f'POSS_{data_path}.pdf')"
   ]
  },
  {
   "cell_type": "code",
   "execution_count": null,
   "metadata": {},
   "outputs": [],
   "source": [
    "with plt.style.context(['science']):\n",
    "    ep = m_fitness[m_fitness[:,1]<=2*k].T\n",
    "    plt.scatter(ep[1], ep[0])\n",
    "    plt.xlabel('k')\n",
    "    plt.ylabel('mse')\n",
    "    plt.title(f'Pareto front- poss: {data_path}')\n",
    "    plt.savefig(f'POSS_{data_path}_pareto.pdf', bbox_inches='tight')"
   ]
  },
  {
   "cell_type": "code",
   "execution_count": null,
   "metadata": {},
   "outputs": [],
   "source": [
    "np.save(f'POSS_{data_path}_t.npy', tt)\n",
    "np.save(f'POSS_{data_path}_mse.npy', mse)\n",
    "np.save(f'POSS_{data_path}_pareto.npy', ep)"
   ]
  }
 ],
 "metadata": {
  "kernelspec": {
   "display_name": "introRL",
   "language": "python",
   "name": "python3"
  },
  "language_info": {
   "codemirror_mode": {
    "name": "ipython",
    "version": 3
   },
   "file_extension": ".py",
   "mimetype": "text/x-python",
   "name": "python",
   "nbconvert_exporter": "python",
   "pygments_lexer": "ipython3",
   "version": "3.6.13"
  },
  "orig_nbformat": 4,
  "vscode": {
   "interpreter": {
    "hash": "188a1d607666d26341b4aeacf8ee052faf3945c44a9ff0d1a699f32494ac6a63"
   }
  }
 },
 "nbformat": 4,
 "nbformat_minor": 2
}
