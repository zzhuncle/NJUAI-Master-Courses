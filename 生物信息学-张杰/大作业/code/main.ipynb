{
 "cells": [
  {
   "cell_type": "code",
   "execution_count": 1,
   "metadata": {},
   "outputs": [],
   "source": [
    "import os,csv,re\n",
    "import pandas as pd\n",
    "import numpy as np\n",
    "import scanpy as sc\n",
    "import math\n",
    "import SegGCN as seg\n",
    "from scipy.sparse import issparse\n",
    "import random, torch\n",
    "import warnings\n",
    "warnings.filterwarnings(\"ignore\")\n",
    "import matplotlib.colors as clr\n",
    "import matplotlib.pyplot as plt\n",
    "import SegGCN as seg\n",
    "import cv2"
   ]
  },
  {
   "cell_type": "code",
   "execution_count": 3,
   "metadata": {},
   "outputs": [
    {
     "name": "stderr",
     "output_type": "stream",
     "text": [
      "Variable names are not unique. To make them unique, call `.var_names_make_unique`.\n"
     ]
    }
   ],
   "source": [
    "#Read original 10x_h5 data and save it to h5ad\n",
    "from scanpy import read_10x_h5\n",
    "adata = read_10x_h5(\"../data/151673/expression_matrix.h5\")\n",
    "spatial=pd.read_csv(\"../data/151673/positions.txt\",sep=\",\",header=None,na_filter=False,index_col=0) \n",
    "adata.obs[\"x1\"]=spatial[1]\n",
    "adata.obs[\"x2\"]=spatial[2]\n",
    "adata.obs[\"x3\"]=spatial[3]\n",
    "adata.obs[\"x4\"]=spatial[4]\n",
    "adata.obs[\"x5\"]=spatial[5]\n",
    "adata.obs[\"x_array\"]=adata.obs[\"x2\"]\n",
    "adata.obs[\"y_array\"]=adata.obs[\"x3\"]\n",
    "adata.obs[\"x_pixel\"]=adata.obs[\"x4\"]\n",
    "adata.obs[\"y_pixel\"]=adata.obs[\"x5\"]\n",
    "#Select captured samples\n",
    "adata=adata[adata.obs[\"x1\"]==1]\n",
    "adata.var_names=[i.upper() for i in list(adata.var_names)]\n",
    "adata.var[\"genename\"]=adata.var.index.astype(\"str\")\n",
    "adata.write_h5ad(\"../data/151673/sample_data.h5ad\")\n",
    "\n",
    "#Read in gene expression and spatial location\n",
    "adata=sc.read(\"../data/151673/sample_data.h5ad\")\n",
    "#Read in hitology image\n",
    "img=cv2.imread(\"../data/151673/histology.tif\")"
   ]
  },
  {
   "cell_type": "code",
   "execution_count": 4,
   "metadata": {},
   "outputs": [
    {
     "data": {
      "text/plain": [
       "True"
      ]
     },
     "execution_count": 4,
     "metadata": {},
     "output_type": "execute_result"
    }
   ],
   "source": [
    "#Set coordinates\n",
    "x_array=adata.obs[\"x_array\"].tolist()\n",
    "y_array=adata.obs[\"y_array\"].tolist()\n",
    "x_pixel=adata.obs[\"x_pixel\"].tolist()\n",
    "y_pixel=adata.obs[\"y_pixel\"].tolist()\n",
    "\n",
    "#Test coordinates on the image\n",
    "img_new=img.copy()\n",
    "for i in range(len(x_pixel)):\n",
    "    x=x_pixel[i]\n",
    "    y=y_pixel[i]\n",
    "    img_new[int(x-20):int(x+20), int(y-20):int(y+20),:]=0\n",
    "\n",
    "cv2.imwrite('./data/151673_map.jpg', img_new)"
   ]
  },
  {
   "cell_type": "code",
   "execution_count": 6,
   "metadata": {},
   "outputs": [
    {
     "name": "stdout",
     "output_type": "stream",
     "text": [
      "Calculateing adj matrix using histology image...\n",
      "Var of c0,c1,c2 =  33.30687202862215 174.55510595352243 46.84205750749746\n",
      "Var of x,y,z =  5606737.526317932 4468793.817921193 5606737.526317932\n"
     ]
    }
   ],
   "source": [
    "#Calculate adjacent matrix\n",
    "s=1\n",
    "b=49\n",
    "adj=seg.calculate_adj_matrix(x=x_pixel,y=y_pixel, x_pixel=x_pixel, y_pixel=y_pixel, image=img, beta=b, alpha=s, histology=True)\n",
    "#If histlogy image is not available, SegGCN can calculate the adjacent matrix using the fnction below\n",
    "#adj=calculate_adj_matrix(x=x_pixel,y=y_pixel, histology=False)\n",
    "np.savetxt('./data/151673/adj.csv', adj, delimiter=',')"
   ]
  },
  {
   "cell_type": "code",
   "execution_count": 7,
   "metadata": {},
   "outputs": [
    {
     "name": "stderr",
     "output_type": "stream",
     "text": [
      "Variable names are not unique. To make them unique, call `.var_names_make_unique`.\n"
     ]
    }
   ],
   "source": [
    "adata=sc.read(\"./data/151673/sample_data.h5ad\")\n",
    "adj=np.loadtxt('./data/151673/adj.csv', delimiter=',')\n",
    "adata.var_names_make_unique()\n",
    "seg.prefilter_genes(adata,min_cells=3) # avoiding all genes are zeros\n",
    "seg.prefilter_specialgenes(adata)\n",
    "#Normalize and take log for UMI\n",
    "sc.pp.normalize_per_cell(adata)\n",
    "sc.pp.log1p(adata)"
   ]
  },
  {
   "cell_type": "code",
   "execution_count": 8,
   "metadata": {},
   "outputs": [
    {
     "name": "stdout",
     "output_type": "stream",
     "text": [
      "Run 1: l [0.01, 1000], p [0.0, 153.8820492650696]\n",
      "Run 2: l [0.01, 500.005], p [0.0, 28.015447343094223]\n",
      "Run 3: l [0.01, 250.0075], p [0.0, 4.240330523308446]\n",
      "Run 4: l [0.01, 125.00874999999999], p [0.0, 0.5157276735032843]\n",
      "Run 5: l [62.509375, 125.00874999999999], p [0.028496868560644373, 0.5157276735032843]\n",
      "Run 6: l [93.7590625, 125.00874999999999], p [0.18753135107474428, 0.5157276735032843]\n",
      "Run 7: l [109.38390625, 125.00874999999999], p [0.32801349789332424, 0.5157276735032843]\n",
      "Run 8: l [117.196328125, 125.00874999999999], p [0.4156469508032292, 0.5157276735032843]\n",
      "Run 9: l [121.1025390625, 125.00874999999999], p [0.4640926787304587, 0.5157276735032843]\n",
      "Run 10: l [123.05564453125, 125.00874999999999], p [0.48950676051756026, 0.5157276735032843]\n",
      "recommended l =  124.032197265625\n"
     ]
    }
   ],
   "source": [
    "p=0.5 \n",
    "#Find the l value given p\n",
    "l=seg.search_l(p, adj, start=0.01, end=1000, tol=0.01, max_run=100)"
   ]
  },
  {
   "cell_type": "code",
   "execution_count": 9,
   "metadata": {},
   "outputs": [
    {
     "name": "stdout",
     "output_type": "stream",
     "text": [
      "Start at res =  0.7 step =  0.1\n",
      "Initializing cluster centers with louvain, resolution =  0.7\n",
      "Epoch  0\n",
      "Epoch  10\n",
      "Res =  0.7 Num of clusters =  7\n",
      "recommended res =  0.7\n"
     ]
    }
   ],
   "source": [
    "#If the number of clusters known, we can use the seg.search_res() fnction to search for suitable resolution(optional)\n",
    "#For this toy data, we set the number of clusters=7 since this tissue has 7 layers\n",
    "n_clusters=7\n",
    "#Set seed\n",
    "r_seed=t_seed=n_seed=100\n",
    "#Seaech for suitable resolution\n",
    "res=seg.search_res(adata, adj, l, n_clusters, start=0.7, step=0.1, tol=5e-3, lr=0.05, max_epochs=20, r_seed=r_seed, t_seed=t_seed, n_seed=n_seed)"
   ]
  },
  {
   "cell_type": "code",
   "execution_count": 62,
   "metadata": {},
   "outputs": [
    {
     "name": "stdout",
     "output_type": "stream",
     "text": [
      "Initializing cluster centers with louvain, resolution =  0.7\n",
      "Epoch  0\n",
      "Epoch  10\n",
      "Epoch  20\n",
      "Epoch  30\n",
      "Epoch  40\n",
      "Epoch  50\n",
      "Epoch  60\n",
      "Epoch  70\n",
      "Epoch  80\n",
      "Epoch  90\n",
      "Epoch  100\n",
      "Epoch  110\n",
      "Epoch  120\n",
      "Epoch  130\n",
      "Epoch  140\n",
      "Epoch  150\n",
      "Epoch  160\n",
      "Epoch  170\n",
      "Epoch  180\n",
      "Epoch  190\n",
      "Calculateing adj matrix using xy only...\n"
     ]
    }
   ],
   "source": [
    "clf=seg.SegGCN()\n",
    "clf.set_l(l)\n",
    "#Set seed\n",
    "random.seed(r_seed)\n",
    "torch.manual_seed(t_seed)\n",
    "np.random.seed(n_seed)\n",
    "#Run\n",
    "clf.train(adata,adj,init_spa=True,init=\"louvain\",res=res, tol=5e-3, lr=0.05, max_epochs=200)\n",
    "y_pred, prob=clf.predict()\n",
    "adata.obs[\"pred\"]= y_pred\n",
    "adata.obs[\"pred\"]=adata.obs[\"pred\"].astype('category')\n",
    "#Do cluster refinement(optional)\n",
    "#shape=\"hexagon\" for Visium data, \"square\" for ST data.\n",
    "adj_2d=seg.calculate_adj_matrix(x=x_array,y=y_array, histology=False)\n",
    "refined_pred=seg.refine(sample_id=adata.obs.index.tolist(), pred=adata.obs[\"pred\"].tolist(), dis=adj_2d, shape=\"hexagon\")\n",
    "adata.obs[\"refined_pred\"]=refined_pred\n",
    "adata.obs[\"refined_pred\"]=adata.obs[\"refined_pred\"].astype('category')\n",
    "#Save results\n",
    "adata.write_h5ad(\"./data/results.h5ad\")"
   ]
  },
  {
   "cell_type": "code",
   "execution_count": 11,
   "metadata": {},
   "outputs": [],
   "source": [
    "adata=sc.read(\"./data/results.h5ad\")\n",
    "#Set colors used\n",
    "plot_color=[\"#F56867\",\"#FEB915\",\"#C798EE\",\"#59BE86\",\"#7495D3\",\"#D1D1D1\",\"#6D1A9C\",\"#15821E\",\"#3A84E6\",\"#997273\",\"#787878\",\"#DB4C6C\",\"#9E7A7A\",\"#554236\",\"#AF5F3C\",\"#93796C\",\"#F9BD3F\",\"#DAB370\",\"#877F6C\",\"#268785\"]\n",
    "#Plot spatial domains\n",
    "domains=\"pred\"\n",
    "num_celltype=len(adata.obs[domains].unique())\n",
    "adata.uns[domains+\"_colors\"]=list(plot_color[:num_celltype])\n",
    "ax=sc.pl.scatter(adata,alpha=1,x=\"y_pixel\",y=\"x_pixel\",color=domains,title=domains,color_map=plot_color,show=False,size=100000/adata.shape[0])\n",
    "ax.set_aspect('equal', 'box')\n",
    "ax.axes.invert_yaxis()\n",
    "plt.savefig(\"./data/pred.png\", dpi=600)\n",
    "plt.close()\n",
    "\n",
    "#Plot refined spatial domains\n",
    "domains=\"refined_pred\"\n",
    "num_celltype=len(adata.obs[domains].unique())\n",
    "adata.uns[domains+\"_colors\"]=list(plot_color[:num_celltype])\n",
    "ax=sc.pl.scatter(adata,alpha=1,x=\"y_pixel\",y=\"x_pixel\",color=domains,title=domains,color_map=plot_color,show=False,size=100000/adata.shape[0])\n",
    "ax.set_aspect('equal', 'box')\n",
    "ax.axes.invert_yaxis()\n",
    "plt.savefig(\"./data/refined_pred.png\", dpi=600)\n",
    "plt.close()"
   ]
  },
  {
   "attachments": {},
   "cell_type": "markdown",
   "metadata": {},
   "source": [
    "**Spatial Domains**![](./SegGCN/results/pred.png) **Refined Spatial Domains**![](./SegGCN/results/refined_pred.png)"
   ]
  }
 ],
 "metadata": {
  "kernelspec": {
   "display_name": "Python 3",
   "language": "python",
   "name": "python3"
  },
  "language_info": {
   "codemirror_mode": {
    "name": "ipython",
    "version": 3
   },
   "file_extension": ".py",
   "mimetype": "text/x-python",
   "name": "python",
   "nbconvert_exporter": "python",
   "pygments_lexer": "ipython3",
   "version": "3.8.8"
  }
 },
 "nbformat": 4,
 "nbformat_minor": 2
}
